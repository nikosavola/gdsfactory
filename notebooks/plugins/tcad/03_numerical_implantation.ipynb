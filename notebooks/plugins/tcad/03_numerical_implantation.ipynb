{
 "cells": [
  {
   "cell_type": "markdown",
   "metadata": {},
   "source": [
    "# Monte-Carlo implant simulations\n",
    "\n",
    "To go beyond implant tables and perform implant simulations on complex geometries, you can call install [PySRIM](https://pypi.org/project/pysrim/) with `pip install pysrim`\n",
    "\n",
    "Thanks to this plugin you can directly interface with the implant layers of your Components for drift-diffusion simulations and use the results of the ion implantation simulations\n",
    "\n",
    "[SRIM is a Visual Basic GUI program](http://www.srim.org/) which has been thoroughly benchmarked.\n",
    "The website contains lots of documentation on the physics and software.\n",
    "It is closed source, but is free to use, copy, modify and distributed for any non-commercial purpose.\n",
    "To install it, you can follow the instructions on the [PySRIM repository](https://gitlab.com/costrouc/pysrim/).\n",
    "You can install the Windows executable yourself (using Wine on MacOS/Linux), or use a Docker image.\n",
    "[The issues contain good information if you run into problems.](https://gitlab.com/costrouc/pysrim/-/issues/7)"
   ]
  },
  {
   "cell_type": "code",
   "execution_count": null,
   "metadata": {},
   "outputs": [],
   "source": [
    "from scipy.stats import kurtosis, skew\n",
    "from statistics import mean, stdev\n",
    "from itertools import count\n",
    "from shutil import rmtree\n",
    "from pathlib import Path\n",
    "from srim.output import Results\n",
    "from srim import TRIM, SR, Ion, Layer, Target\n",
    "import matplotlib.pyplot as plt\n",
    "import numpy as np\n",
    "from IPython.display import Image\n",
    "from pprint import pprint\n",
    "import os"
   ]
  },
  {
   "cell_type": "markdown",
   "metadata": {},
   "source": [
    "[The following example follows the tutorial from PySRIM](https://gitlab.com/costrouc/pysrim/-/blob/master/examples/notebooks/Analysis.ipynb), adapted for silicon photonic applications.\n",
    "\n",
    "## Simulating n-doping of silicon\n",
    "\n",
    "### Setup\n",
    "\n",
    "Let's compute the implant depth for 100 keV Phosphorus (a typical N-implant) into 220-nm thick SOI:"
   ]
  },
  {
   "cell_type": "code",
   "execution_count": null,
   "metadata": {},
   "outputs": [],
   "source": [
    "# Define implant\n",
    "energy = 1.0e5\n",
    "implant = Ion(\"P\", energy=1.0e5)\n",
    "\n",
    "# Define layers of target\n",
    "nm = 10  # units of SRIM are Angstroms\n",
    "um = 1e4\n",
    "soi_thickness = 220 * nm\n",
    "BOX_thickness = 100 * nm  # instead of 3 * um, ions barely make it to BOX\n",
    "\n",
    "# 220nm pure silicon\n",
    "soi = Layer(\n",
    "    {\n",
    "        \"Si\": {\n",
    "            # (float, int, required): Stoichiometry of element (fraction)\n",
    "            \"stoich\": 1.0,\n",
    "            \"E_d\": 35.0,  # (float, int, optional): Displacement energy [eV]\n",
    "            # (float, int, optional): Lattice binding energies [eV]. Used for sputtering calculations.\n",
    "            \"lattice\": 0.0,\n",
    "            # (float, int, optional): Surface binding energies [eV]. Used for sputtering calculations.\n",
    "            \"surface\": 3.0,\n",
    "        },\n",
    "    },\n",
    "    density=2.3290,  # density [g/cm^3] of material\n",
    "    width=soi_thickness,  # width [Angstroms] of layer\n",
    ")\n",
    "\n",
    "# 3um SiO2\n",
    "box = Layer(\n",
    "    {\n",
    "        \"Si\": {\n",
    "            \"stoich\": 0.33,\n",
    "        },\n",
    "        \"O\": {\n",
    "            \"stoich\": 0.67,\n",
    "        },\n",
    "    },\n",
    "    density=2.65,\n",
    "    width=BOX_thickness,\n",
    ")\n",
    "\n",
    "# Define multilayer target\n",
    "target = Target([soi, box])"
   ]
  },
  {
   "cell_type": "markdown",
   "metadata": {},
   "source": [
    "### Executing simulation\n",
    "\n",
    "PySRIM recommends fragmenting the simulation to avoid SRIM crashing:"
   ]
  },
  {
   "cell_type": "code",
   "execution_count": null,
   "metadata": {},
   "outputs": [],
   "source": [
    "from gdsfactory.simulation.process.pysrim import run_fragmented_calculation\n",
    "\n",
    "overwrite = True\n",
    "\n",
    "srim_executable_directory = Path(\"/home/bilodeaus/.wine/drive_c/Program Files/SRIM\")\n",
    "srim_data_directory = Path(\"./tmp/\")\n",
    "\n",
    "srim_data_directory.mkdir(exist_ok=True, parents=True)\n",
    "srim_executable_directory.mkdir(exist_ok=True, parents=True)\n",
    "\n",
    "trim_settings = {\n",
    "    \"calculation\": 1,\n",
    "    \"angle_ions\": 7,\n",
    "    \"ranges\": True,\n",
    "    \"plot_mode\": 5,\n",
    "}\n",
    "\n",
    "if overwrite:\n",
    "    rmtree(srim_data_directory)\n",
    "    trim = run_fragmented_calculation(\n",
    "        srim_executable_directory=srim_executable_directory,\n",
    "        ion=implant,\n",
    "        target=target,\n",
    "        number_ions=1000,\n",
    "        save_path=srim_data_directory,\n",
    "        trim_settings=trim_settings,\n",
    "    )"
   ]
  },
  {
   "cell_type": "markdown",
   "metadata": {},
   "source": [
    "If you are using your own TRIM installation, you should see a window popup and run the calculations. If using Docker, the process will hang until it is done (there is no progress monitor).\n",
    "\n",
    "You can also run these in parallel on a multicore machine:"
   ]
  },
  {
   "cell_type": "code",
   "execution_count": null,
   "metadata": {},
   "outputs": [],
   "source": []
  },
  {
   "cell_type": "markdown",
   "metadata": {},
   "source": [
    "### Analyzing vertical distribution\n",
    "\n",
    "Now we can analyze the results. We are interested in the implant distribution, and so we plot the range of the ions in the target. First, we collect the different results and normalize the results:"
   ]
  },
  {
   "cell_type": "code",
   "execution_count": null,
   "metadata": {},
   "outputs": [],
   "source": [
    "results = [\n",
    "    Results(child)\n",
    "    for child in srim_data_directory.glob(\"**/\")\n",
    "    if child != srim_data_directory\n",
    "]"
   ]
  },
  {
   "cell_type": "code",
   "execution_count": null,
   "metadata": {},
   "outputs": [],
   "source": [
    "depths = np.mean(np.vstack([result.range.depth for result in results]), axis=0)\n",
    "ranges = np.mean(\n",
    "    np.vstack([result.range.ions / result.range.num_ions for result in results]),\n",
    "    axis=0,\n",
    ")\n",
    "ranges = ranges / np.sqrt(np.trapz(ranges, depths))  # normalize distribution"
   ]
  },
  {
   "cell_type": "code",
   "execution_count": null,
   "metadata": {},
   "outputs": [],
   "source": [
    "plt.title(f\"Phosphorus {energy} eV in SOI\")\n",
    "plt.scatter(depths, ranges, marker=\".\", color=\"k\")\n",
    "\n",
    "plt.xlabel(\"Depth (A)\")\n",
    "plt.ylabel(\"Relative number of ions\")\n",
    "\n",
    "plt.vlines(x=soi_thickness, ymin=0, ymax=1000)\n",
    "plt.xlim([0, 4000])\n",
    "plt.ylim([0, 0.35])"
   ]
  },
  {
   "cell_type": "markdown",
   "metadata": {},
   "source": [
    "We can do statistical analysis:"
   ]
  },
  {
   "cell_type": "code",
   "execution_count": null,
   "metadata": {},
   "outputs": [],
   "source": [
    "implant_range = mean(ranges * depths)\n",
    "implant_straggle = stdev(ranges * depths)\n",
    "implant_skew = skew(ranges * depths)\n",
    "implant_kurtosis = kurtosis(ranges * depths)\n",
    "\n",
    "\n",
    "pprint.pprint(f\"Implant range: {implant_range}\")\n",
    "pprint.pprint(f\"Implant straggle: {implant_straggle}\")\n",
    "pprint.pprint(f\"Implant skew: {implant_skew}\")\n",
    "pprint.pprint(f\"Implant kurtosis: {implant_kurtosis}\")"
   ]
  }
 ],
 "metadata": {
  "kernelspec": {
   "display_name": "Python 3 (ipykernel)",
   "language": "python",
   "name": "python3"
  },
  "language_info": {
   "codemirror_mode": {
    "name": "ipython",
    "version": 3
   },
   "file_extension": ".py",
   "mimetype": "text/x-python",
   "name": "python",
   "nbconvert_exporter": "python",
   "pygments_lexer": "ipython3",
   "version": "3.10.8"
  },
  "nbsphinx": {
   "execute": "never"
  },
  "vscode": {
   "interpreter": {
    "hash": "0812c0e95dbda637e29019a0b7cdaea2a8eb8ed2ab9b7320ca5d44200ec34a9a"
   }
  }
 },
 "nbformat": 4,
 "nbformat_minor": 4
}
