{
 "cells": [
  {
   "cell_type": "markdown",
   "id": "1413f21c",
   "metadata": {},
   "source": [
    "# Finite-element mode solver\n",
    "\n",
    "You can mesh any component cross-section and solve the PDEs thanks to [femwell](https://helgegehring.github.io/femwell/intro.html) mode - solver.\n",
    "\n",
    "Unlike other mode solvers, this actually uses the component geometry instead of a hardcoded geometry.\n",
    "\n",
    "You can directly compute the modes of a Gdsfactory cross-section (internally, it defines a \"uz\" mesh  perpendicular to a straight component with the provided cross-section).\n",
    "\n",
    "You can also downsample layers from the LayerStack, and modify both the cross-section and LayerStack  prior to simulation to change the geometry. You can also define refractive indices on the active PDK."
   ]
  },
  {
   "cell_type": "code",
   "execution_count": 1,
   "id": "490fdb00-c13b-4428-877b-670a0ac3d0b9",
   "metadata": {
    "execution": {
     "iopub.execute_input": "2023-01-22T16:14:00.777617Z",
     "iopub.status.busy": "2023-01-22T16:14:00.776928Z",
     "iopub.status.idle": "2023-01-22T16:14:02.650145Z",
     "shell.execute_reply": "2023-01-22T16:14:02.649397Z"
    }
   },
   "outputs": [
    {
     "name": "stderr",
     "output_type": "stream",
     "text": [
      "2023-01-22 16:14:01.411 | INFO     | gdsfactory.config:<module>:50 - Load '/home/runner/work/gdsfactory/gdsfactory/gdsfactory' 6.23.4\n"
     ]
    },
    {
     "name": "stderr",
     "output_type": "stream",
     "text": [
      "2023-01-22 16:14:02.321 | INFO     | gdsfactory.technology.layer_views:__init__:779 - Importing LayerViews from KLayout layer properties file: /home/runner/work/gdsfactory/gdsfactory/gdsfactory/generic_tech/klayout/tech/layers.lyp.\n"
     ]
    }
   ],
   "source": [
    "import matplotlib.pyplot as plt\n",
    "import gdsfactory as gf\n",
    "from tqdm.auto import tqdm\n",
    "import numpy as np\n",
    "from femwell import mode_solver\n",
    "from gdsfactory.simulation.fem.mode_solver import compute_cross_section_modes\n",
    "from gdsfactory.technology import LayerStack\n",
    "from gdsfactory.cross_section import rib\n",
    "from gdsfactory.generic_tech import LAYER_STACK\n",
    "\n",
    "import sys\n",
    "import logging\n",
    "from rich.logging import RichHandler\n",
    "\n",
    "logger = logging.getLogger()\n",
    "logger.removeHandler(sys.stderr)\n",
    "logging.basicConfig(level=\"WARNING\", datefmt=\"[%X]\", handlers=[RichHandler()])"
   ]
  },
  {
   "cell_type": "code",
   "execution_count": 2,
   "id": "7fd24a1b-7641-4f33-880a-f4027973323d",
   "metadata": {
    "execution": {
     "iopub.execute_input": "2023-01-22T16:14:02.654654Z",
     "iopub.status.busy": "2023-01-22T16:14:02.654268Z",
     "iopub.status.idle": "2023-01-22T16:14:14.940144Z",
     "shell.execute_reply": "2023-01-22T16:14:14.939351Z"
    }
   },
   "outputs": [
    {
     "name": "stdout",
     "output_type": "stream",
     "text": [
      "\n"
     ]
    },
    {
     "data": {
      "text/html": [
       "<pre style=\"white-space:pre;overflow-x:auto;line-height:normal;font-family:Menlo,'DejaVu Sans Mono',consolas,'Courier New',monospace\"><span style=\"color: #7fbfbf; text-decoration-color: #7fbfbf\">[16:14:04] </span><span style=\"color: #800000; text-decoration-color: #800000\">WARNING </span> WARNING:rich:This version of Tidy3D was pip installed from the <span style=\"color: #008000; text-decoration-color: #008000\">'tidy3d-beta'</span>    <a href=\"file:///usr/share/miniconda/envs/anaconda-client-env/lib/python3.9/site-packages/tidy3d/__init__.py\" target=\"_blank\"><span style=\"color: #7f7f7f; text-decoration-color: #7f7f7f\">__init__.py</span></a><span style=\"color: #7f7f7f; text-decoration-color: #7f7f7f\">:</span><a href=\"file:///usr/share/miniconda/envs/anaconda-client-env/lib/python3.9/site-packages/tidy3d/__init__.py#102\" target=\"_blank\"><span style=\"color: #7f7f7f; text-decoration-color: #7f7f7f\">102</span></a>\n",
       "<span style=\"color: #7fbfbf; text-decoration-color: #7fbfbf\">           </span>         repository on PyPI. Future releases will be uploaded to the <span style=\"color: #008000; text-decoration-color: #008000\">'tidy3d'</span>            <span style=\"color: #7f7f7f; text-decoration-color: #7f7f7f\">               </span>\n",
       "<span style=\"color: #7fbfbf; text-decoration-color: #7fbfbf\">           </span>         repository. From now on, please use <span style=\"color: #008000; text-decoration-color: #008000\">'pip install tidy3d'</span> instead.               <span style=\"color: #7f7f7f; text-decoration-color: #7f7f7f\">               </span>\n",
       "</pre>\n"
      ],
      "text/plain": [
       "\u001b[2;36m[16:14:04]\u001b[0m\u001b[2;36m \u001b[0m\u001b[31mWARNING \u001b[0m WARNING:rich:This version of Tidy3D was pip installed from the \u001b[32m'tidy3d-beta'\u001b[0m    \u001b]8;id=331750;file:///usr/share/miniconda/envs/anaconda-client-env/lib/python3.9/site-packages/tidy3d/__init__.py\u001b\\\u001b[2m__init__.py\u001b[0m\u001b]8;;\u001b\\\u001b[2m:\u001b[0m\u001b]8;id=808400;file:///usr/share/miniconda/envs/anaconda-client-env/lib/python3.9/site-packages/tidy3d/__init__.py#102\u001b\\\u001b[2m102\u001b[0m\u001b]8;;\u001b\\\n",
       "\u001b[2;36m           \u001b[0m         repository on PyPI. Future releases will be uploaded to the \u001b[32m'tidy3d'\u001b[0m            \u001b[2m               \u001b[0m\n",
       "\u001b[2;36m           \u001b[0m         repository. From now on, please use \u001b[32m'pip install tidy3d'\u001b[0m instead.               \u001b[2m               \u001b[0m\n"
      ]
     },
     "metadata": {},
     "output_type": "display_data"
    },
    {
     "data": {
      "text/html": [
       "<pre style=\"white-space:pre;overflow-x:auto;line-height:normal;font-family:Menlo,'DejaVu Sans Mono',consolas,'Courier New',monospace\"><span style=\"color: #7fbfbf; text-decoration-color: #7fbfbf\">           </span><span style=\"color: #000080; text-decoration-color: #000080\">INFO    </span> INFO:rich:Using client version: <span style=\"color: #008080; text-decoration-color: #008080; font-weight: bold\">1.8</span>.<span style=\"color: #008080; text-decoration-color: #008080; font-weight: bold\">2</span>                                           <a href=\"file:///usr/share/miniconda/envs/anaconda-client-env/lib/python3.9/site-packages/tidy3d/__init__.py\" target=\"_blank\"><span style=\"color: #7f7f7f; text-decoration-color: #7f7f7f\">__init__.py</span></a><span style=\"color: #7f7f7f; text-decoration-color: #7f7f7f\">:</span><a href=\"file:///usr/share/miniconda/envs/anaconda-client-env/lib/python3.9/site-packages/tidy3d/__init__.py#120\" target=\"_blank\"><span style=\"color: #7f7f7f; text-decoration-color: #7f7f7f\">120</span></a>\n",
       "</pre>\n"
      ],
      "text/plain": [
       "\u001b[2;36m          \u001b[0m\u001b[2;36m \u001b[0m\u001b[34mINFO    \u001b[0m INFO:rich:Using client version: \u001b[1;36m1.8\u001b[0m.\u001b[1;36m2\u001b[0m                                           \u001b]8;id=667093;file:///usr/share/miniconda/envs/anaconda-client-env/lib/python3.9/site-packages/tidy3d/__init__.py\u001b\\\u001b[2m__init__.py\u001b[0m\u001b]8;;\u001b\\\u001b[2m:\u001b[0m\u001b]8;id=422269;file:///usr/share/miniconda/envs/anaconda-client-env/lib/python3.9/site-packages/tidy3d/__init__.py#120\u001b\\\u001b[2m120\u001b[0m\u001b]8;;\u001b\\\n"
      ]
     },
     "metadata": {},
     "output_type": "display_data"
    },
    {
     "name": "stderr",
     "output_type": "stream",
     "text": [
      "2023-01-22 16:14:05.077 | INFO     | gdsfactory.simulation.gtidy3d:<module>:54 - Tidy3d '1.8.2' installed at ['/usr/share/miniconda/envs/anaconda-client-env/lib/python3.9/site-packages/tidy3d']\n"
     ]
    },
    {
     "name": "stderr",
     "output_type": "stream",
     "text": [
      "2023-01-22 16:14:14.935 | INFO     | gdsfactory.simulation.fem.mode_solver:compute_cross_section_modes:160 - Write mode to PosixPath('/home/runner/.gdsfactory/modes/xs_f44aaf43_ce353fd2.npz')\n"
     ]
    }
   ],
   "source": [
    "filtered_layerstack = LayerStack(\n",
    "    layers={\n",
    "        k: LAYER_STACK.layers[k]\n",
    "        for k in (\n",
    "            \"core\",\n",
    "            \"clad\",\n",
    "            \"slab90\",\n",
    "            \"box\",\n",
    "        )\n",
    "    }\n",
    ")\n",
    "\n",
    "filtered_layerstack.layers[\n",
    "    \"core\"\n",
    "].thickness = 0.2  # Perturb the layerstack before simulating\n",
    "\n",
    "resolutions = {}\n",
    "resolutions[\"core\"] = {\"resolution\": 0.02, \"distance\": 2}\n",
    "resolutions[\"clad\"] = {\"resolution\": 0.2, \"distance\": 1}\n",
    "resolutions[\"box\"] = {\"resolution\": 0.2, \"distance\": 1}\n",
    "resolutions[\"slab90\"] = {\"resolution\": 0.05, \"distance\": 1}\n",
    "\n",
    "lams, basis, xs = compute_cross_section_modes(\n",
    "    cross_section=rib(width=0.6),\n",
    "    layerstack=filtered_layerstack,\n",
    "    wl=1.55,\n",
    "    num_modes=4,\n",
    "    resolutions=resolutions,\n",
    ")"
   ]
  },
  {
   "cell_type": "markdown",
   "id": "ae9b2b87",
   "metadata": {},
   "source": [
    "The solver returns the effective indices (lams), FEM basis functions (basis) and eigenvectors (xs):"
   ]
  },
  {
   "cell_type": "code",
   "execution_count": 3,
   "id": "8df58b39",
   "metadata": {
    "execution": {
     "iopub.execute_input": "2023-01-22T16:14:14.943954Z",
     "iopub.status.busy": "2023-01-22T16:14:14.943257Z",
     "iopub.status.idle": "2023-01-22T16:14:14.950454Z",
     "shell.execute_reply": "2023-01-22T16:14:14.949684Z"
    }
   },
   "outputs": [
    {
     "data": {
      "text/plain": [
       "(array([2.56562633+6.77055620e-08j, 2.14074777-1.99106750e-08j,\n",
       "        2.08164299-2.23166927e-08j, 2.0754274 -7.98847203e-10j]),\n",
       " <skfem CellBasis(MeshTri1, ElementComposite) object>\n",
       "   Number of elements: 13730\n",
       "   Number of DOFs: 27627\n",
       "   Size: 63267840 B,\n",
       " array([[ 5.87958928e+00-5.48398693e+00j,  1.00176085e+01-9.34358314e+00j,\n",
       "          7.92943764e+00-7.39591262e+00j, ...,\n",
       "         -9.93136429e-09-4.82975225e-09j,  3.67504160e-05+3.94189196e-05j,\n",
       "         -1.54699397e-06-1.89695101e-06j],\n",
       "        [ 1.23095788e+00+4.94556327e+00j,  1.75546632e+00+7.05285473e+00j,\n",
       "          1.09934268e+00+4.41677740e+00j, ...,\n",
       "          2.65020364e-05-6.60348783e-06j, -9.43490780e-03+2.34836167e-03j,\n",
       "          1.85659520e-02-4.62120448e-03j],\n",
       "        [-1.55165836e+00-3.49388350e-01j, -1.62920741e+00-3.66849820e-01j,\n",
       "         -9.97380877e-01-2.24581153e-01j, ...,\n",
       "          2.01237406e-04-8.93703154e-04j, -7.79401487e-03+3.46136962e-02j,\n",
       "          6.63530763e-02-2.94678705e-01j],\n",
       "        [-1.11655637e+00-1.62286065e+00j, -1.30375581e+00-1.89494632e+00j,\n",
       "         -7.12222968e-01-1.03518192e+00j, ...,\n",
       "          9.86402670e-04-6.78659465e-04j, -2.58503698e-02+1.77855311e-02j,\n",
       "          2.97208086e-01-2.04484472e-01j]]))"
      ]
     },
     "execution_count": 3,
     "metadata": {},
     "output_type": "execute_result"
    }
   ],
   "source": [
    "lams, basis, xs"
   ]
  },
  {
   "cell_type": "markdown",
   "id": "6a02fddf",
   "metadata": {},
   "source": [
    "You can use them as inputs to other [femwell mode solver functions](https://github.com/HelgeGehring/femwell/blob/main/femwell/mode_solver.py) to inspect or analyze the modes:"
   ]
  },
  {
   "cell_type": "code",
   "execution_count": 4,
   "id": "e3dca692",
   "metadata": {
    "execution": {
     "iopub.execute_input": "2023-01-22T16:14:14.953493Z",
     "iopub.status.busy": "2023-01-22T16:14:14.953245Z",
     "iopub.status.idle": "2023-01-22T16:14:17.606615Z",
     "shell.execute_reply": "2023-01-22T16:14:17.605720Z"
    }
   },
   "outputs": [
    {
     "data": {
      "image/png": "[encoded data removed]",
      "text/plain": [
       "<Figure size 640x480 with 6 Axes>"
      ]
     },
     "metadata": {},
     "output_type": "display_data"
    }
   ],
   "source": [
    "fig = mode_solver.plot_mode(\n",
    "    basis, np.real(xs[0]), plot_vectors=False, colorbar=True, title=\"E\", direction=\"y\"\n",
    ")"
   ]
  },
  {
   "cell_type": "code",
   "execution_count": 5,
   "id": "ef4e73f1",
   "metadata": {
    "execution": {
     "iopub.execute_input": "2023-01-22T16:14:17.611026Z",
     "iopub.status.busy": "2023-01-22T16:14:17.610321Z",
     "iopub.status.idle": "2023-01-22T16:14:18.129708Z",
     "shell.execute_reply": "2023-01-22T16:14:18.128582Z"
    }
   },
   "outputs": [
    {
     "data": {
      "image/png": "[encoded data removed]",
      "text/plain": [
       "<Figure size 640x480 with 6 Axes>"
      ]
     },
     "execution_count": 5,
     "metadata": {},
     "output_type": "execute_result"
    }
   ],
   "source": [
    "fig[0]"
   ]
  },
  {
   "cell_type": "code",
   "execution_count": 6,
   "id": "cef8fae2",
   "metadata": {
    "execution": {
     "iopub.execute_input": "2023-01-22T16:14:18.133680Z",
     "iopub.status.busy": "2023-01-22T16:14:18.133139Z",
     "iopub.status.idle": "2023-01-22T16:14:18.370973Z",
     "shell.execute_reply": "2023-01-22T16:14:18.370175Z"
    }
   },
   "outputs": [
    {
     "data": {
      "text/plain": [
       "0.9905384201024471"
      ]
     },
     "execution_count": 6,
     "metadata": {},
     "output_type": "execute_result"
    }
   ],
   "source": [
    "te_frac = mode_solver.calculate_te_frac(basis, xs[0])\n",
    "te_frac"
   ]
  },
  {
   "cell_type": "markdown",
   "id": "c0c26422",
   "metadata": {},
   "source": [
    "## Sweep waveguide width"
   ]
  },
  {
   "cell_type": "code",
   "execution_count": 7,
   "id": "dccace3c",
   "metadata": {
    "execution": {
     "iopub.execute_input": "2023-01-22T16:14:18.375363Z",
     "iopub.status.busy": "2023-01-22T16:14:18.374748Z",
     "iopub.status.idle": "2023-01-22T16:16:24.646699Z",
     "shell.execute_reply": "2023-01-22T16:16:24.645987Z"
    }
   },
   "outputs": [
    {
     "data": {
      "application/vnd.jupyter.widget-view+json": {
       "model_id": "4be9a5a95c8e45d6aa48cab92b846ecc",
       "version_major": 2,
       "version_minor": 0
      },
      "text/plain": [
       "  0%|          | 0/20 [00:00<?, ?it/s]"
      ]
     },
     "metadata": {},
     "output_type": "display_data"
    },
    {
     "name": "stdout",
     "output_type": "stream",
     "text": [
      "\n"
     ]
    },
    {
     "name": "stderr",
     "output_type": "stream",
     "text": [
      "2023-01-22 16:14:23.588 | INFO     | gdsfactory.simulation.fem.mode_solver:compute_cross_section_modes:160 - Write mode to PosixPath('/home/runner/.gdsfactory/modes/xs_3e9a21bd_efe87381.npz')\n"
     ]
    },
    {
     "name": "stderr",
     "output_type": "stream",
     "text": [
      "/tmp/ipykernel_10157/656326063.py:15: ComplexWarning: Casting complex values to real discards the imaginary part\n",
      "  all_lams[i] = lams\n"
     ]
    },
    {
     "name": "stdout",
     "output_type": "stream",
     "text": [
      "\n"
     ]
    },
    {
     "name": "stderr",
     "output_type": "stream",
     "text": [
      "2023-01-22 16:14:30.309 | INFO     | gdsfactory.simulation.fem.mode_solver:compute_cross_section_modes:160 - Write mode to PosixPath('/home/runner/.gdsfactory/modes/xs_2f6d91a7_efe87381.npz')\n"
     ]
    },
    {
     "name": "stderr",
     "output_type": "stream",
     "text": [
      "/tmp/ipykernel_10157/656326063.py:15: ComplexWarning: Casting complex values to real discards the imaginary part\n",
      "  all_lams[i] = lams\n"
     ]
    },
    {
     "name": "stdout",
     "output_type": "stream",
     "text": [
      "\n"
     ]
    },
    {
     "name": "stderr",
     "output_type": "stream",
     "text": [
      "2023-01-22 16:14:37.314 | INFO     | gdsfactory.simulation.fem.mode_solver:compute_cross_section_modes:160 - Write mode to PosixPath('/home/runner/.gdsfactory/modes/xs_b76557f8_efe87381.npz')\n"
     ]
    },
    {
     "name": "stderr",
     "output_type": "stream",
     "text": [
      "/tmp/ipykernel_10157/656326063.py:15: ComplexWarning: Casting complex values to real discards the imaginary part\n",
      "  all_lams[i] = lams\n"
     ]
    },
    {
     "name": "stdout",
     "output_type": "stream",
     "text": [
      "\n"
     ]
    },
    {
     "name": "stderr",
     "output_type": "stream",
     "text": [
      "2023-01-22 16:14:43.954 | INFO     | gdsfactory.simulation.fem.mode_solver:compute_cross_section_modes:160 - Write mode to PosixPath('/home/runner/.gdsfactory/modes/xs_c5f4b290_efe87381.npz')\n"
     ]
    },
    {
     "name": "stderr",
     "output_type": "stream",
     "text": [
      "/tmp/ipykernel_10157/656326063.py:15: ComplexWarning: Casting complex values to real discards the imaginary part\n",
      "  all_lams[i] = lams\n"
     ]
    },
    {
     "name": "stdout",
     "output_type": "stream",
     "text": [
      "\n"
     ]
    },
    {
     "name": "stderr",
     "output_type": "stream",
     "text": [
      "2023-01-22 16:14:53.336 | INFO     | gdsfactory.simulation.fem.mode_solver:compute_cross_section_modes:160 - Write mode to PosixPath('/home/runner/.gdsfactory/modes/xs_09241e1d_efe87381.npz')\n"
     ]
    },
    {
     "name": "stderr",
     "output_type": "stream",
     "text": [
      "/tmp/ipykernel_10157/656326063.py:15: ComplexWarning: Casting complex values to real discards the imaginary part\n",
      "  all_lams[i] = lams\n"
     ]
    },
    {
     "name": "stdout",
     "output_type": "stream",
     "text": [
      "\n"
     ]
    },
    {
     "name": "stderr",
     "output_type": "stream",
     "text": [
      "2023-01-22 16:14:59.868 | INFO     | gdsfactory.simulation.fem.mode_solver:compute_cross_section_modes:160 - Write mode to PosixPath('/home/runner/.gdsfactory/modes/xs_7fe4b240_efe87381.npz')\n"
     ]
    },
    {
     "name": "stderr",
     "output_type": "stream",
     "text": [
      "/tmp/ipykernel_10157/656326063.py:15: ComplexWarning: Casting complex values to real discards the imaginary part\n",
      "  all_lams[i] = lams\n"
     ]
    },
    {
     "name": "stdout",
     "output_type": "stream",
     "text": [
      "\n"
     ]
    },
    {
     "name": "stderr",
     "output_type": "stream",
     "text": [
      "2023-01-22 16:15:06.726 | INFO     | gdsfactory.simulation.fem.mode_solver:compute_cross_section_modes:160 - Write mode to PosixPath('/home/runner/.gdsfactory/modes/xs_2d86ac00_efe87381.npz')\n"
     ]
    },
    {
     "name": "stderr",
     "output_type": "stream",
     "text": [
      "/tmp/ipykernel_10157/656326063.py:15: ComplexWarning: Casting complex values to real discards the imaginary part\n",
      "  all_lams[i] = lams\n"
     ]
    },
    {
     "name": "stdout",
     "output_type": "stream",
     "text": [
      "\n"
     ]
    },
    {
     "name": "stderr",
     "output_type": "stream",
     "text": [
      "2023-01-22 16:15:11.784 | INFO     | gdsfactory.simulation.fem.mode_solver:compute_cross_section_modes:160 - Write mode to PosixPath('/home/runner/.gdsfactory/modes/xs_ba346291_efe87381.npz')\n"
     ]
    },
    {
     "name": "stderr",
     "output_type": "stream",
     "text": [
      "/tmp/ipykernel_10157/656326063.py:15: ComplexWarning: Casting complex values to real discards the imaginary part\n",
      "  all_lams[i] = lams\n"
     ]
    },
    {
     "name": "stdout",
     "output_type": "stream",
     "text": [
      "\n"
     ]
    },
    {
     "name": "stderr",
     "output_type": "stream",
     "text": [
      "2023-01-22 16:15:16.354 | INFO     | gdsfactory.simulation.fem.mode_solver:compute_cross_section_modes:160 - Write mode to PosixPath('/home/runner/.gdsfactory/modes/xs_8528ff66_efe87381.npz')\n"
     ]
    },
    {
     "name": "stderr",
     "output_type": "stream",
     "text": [
      "/tmp/ipykernel_10157/656326063.py:15: ComplexWarning: Casting complex values to real discards the imaginary part\n",
      "  all_lams[i] = lams\n"
     ]
    },
    {
     "name": "stdout",
     "output_type": "stream",
     "text": [
      "\n"
     ]
    },
    {
     "name": "stderr",
     "output_type": "stream",
     "text": [
      "2023-01-22 16:15:21.006 | INFO     | gdsfactory.simulation.fem.mode_solver:compute_cross_section_modes:160 - Write mode to PosixPath('/home/runner/.gdsfactory/modes/xs_3cf0c077_efe87381.npz')\n"
     ]
    },
    {
     "name": "stderr",
     "output_type": "stream",
     "text": [
      "/tmp/ipykernel_10157/656326063.py:15: ComplexWarning: Casting complex values to real discards the imaginary part\n",
      "  all_lams[i] = lams\n"
     ]
    },
    {
     "name": "stdout",
     "output_type": "stream",
     "text": [
      "\n"
     ]
    },
    {
     "name": "stderr",
     "output_type": "stream",
     "text": [
      "2023-01-22 16:15:25.716 | INFO     | gdsfactory.simulation.fem.mode_solver:compute_cross_section_modes:160 - Write mode to PosixPath('/home/runner/.gdsfactory/modes/xs_b62973df_efe87381.npz')\n"
     ]
    },
    {
     "name": "stderr",
     "output_type": "stream",
     "text": [
      "/tmp/ipykernel_10157/656326063.py:15: ComplexWarning: Casting complex values to real discards the imaginary part\n",
      "  all_lams[i] = lams\n"
     ]
    },
    {
     "name": "stdout",
     "output_type": "stream",
     "text": [
      "\n"
     ]
    },
    {
     "name": "stderr",
     "output_type": "stream",
     "text": [
      "2023-01-22 16:15:30.687 | INFO     | gdsfactory.simulation.fem.mode_solver:compute_cross_section_modes:160 - Write mode to PosixPath('/home/runner/.gdsfactory/modes/xs_729092c5_efe87381.npz')\n"
     ]
    },
    {
     "name": "stderr",
     "output_type": "stream",
     "text": [
      "/tmp/ipykernel_10157/656326063.py:15: ComplexWarning: Casting complex values to real discards the imaginary part\n",
      "  all_lams[i] = lams\n"
     ]
    },
    {
     "name": "stdout",
     "output_type": "stream",
     "text": [
      "\n"
     ]
    },
    {
     "name": "stderr",
     "output_type": "stream",
     "text": [
      "2023-01-22 16:15:36.495 | INFO     | gdsfactory.simulation.fem.mode_solver:compute_cross_section_modes:160 - Write mode to PosixPath('/home/runner/.gdsfactory/modes/xs_d4922581_efe87381.npz')\n"
     ]
    },
    {
     "name": "stderr",
     "output_type": "stream",
     "text": [
      "/tmp/ipykernel_10157/656326063.py:15: ComplexWarning: Casting complex values to real discards the imaginary part\n",
      "  all_lams[i] = lams\n"
     ]
    },
    {
     "name": "stdout",
     "output_type": "stream",
     "text": [
      "\n"
     ]
    },
    {
     "name": "stderr",
     "output_type": "stream",
     "text": [
      "2023-01-22 16:15:42.493 | INFO     | gdsfactory.simulation.fem.mode_solver:compute_cross_section_modes:160 - Write mode to PosixPath('/home/runner/.gdsfactory/modes/xs_f2ba986f_efe87381.npz')\n"
     ]
    },
    {
     "name": "stderr",
     "output_type": "stream",
     "text": [
      "/tmp/ipykernel_10157/656326063.py:15: ComplexWarning: Casting complex values to real discards the imaginary part\n",
      "  all_lams[i] = lams\n"
     ]
    },
    {
     "name": "stdout",
     "output_type": "stream",
     "text": [
      "\n"
     ]
    },
    {
     "name": "stderr",
     "output_type": "stream",
     "text": [
      "2023-01-22 16:15:48.391 | INFO     | gdsfactory.simulation.fem.mode_solver:compute_cross_section_modes:160 - Write mode to PosixPath('/home/runner/.gdsfactory/modes/xs_e0cc9d0a_efe87381.npz')\n"
     ]
    },
    {
     "name": "stderr",
     "output_type": "stream",
     "text": [
      "/tmp/ipykernel_10157/656326063.py:15: ComplexWarning: Casting complex values to real discards the imaginary part\n",
      "  all_lams[i] = lams\n"
     ]
    },
    {
     "name": "stdout",
     "output_type": "stream",
     "text": [
      "\n"
     ]
    },
    {
     "name": "stderr",
     "output_type": "stream",
     "text": [
      "2023-01-22 16:15:54.576 | INFO     | gdsfactory.simulation.fem.mode_solver:compute_cross_section_modes:160 - Write mode to PosixPath('/home/runner/.gdsfactory/modes/xs_4839c75b_efe87381.npz')\n"
     ]
    },
    {
     "name": "stderr",
     "output_type": "stream",
     "text": [
      "/tmp/ipykernel_10157/656326063.py:15: ComplexWarning: Casting complex values to real discards the imaginary part\n",
      "  all_lams[i] = lams\n"
     ]
    },
    {
     "name": "stdout",
     "output_type": "stream",
     "text": [
      "\n"
     ]
    },
    {
     "name": "stderr",
     "output_type": "stream",
     "text": [
      "2023-01-22 16:16:01.421 | INFO     | gdsfactory.simulation.fem.mode_solver:compute_cross_section_modes:160 - Write mode to PosixPath('/home/runner/.gdsfactory/modes/xs_467af3b0_efe87381.npz')\n"
     ]
    },
    {
     "name": "stderr",
     "output_type": "stream",
     "text": [
      "/tmp/ipykernel_10157/656326063.py:15: ComplexWarning: Casting complex values to real discards the imaginary part\n",
      "  all_lams[i] = lams\n"
     ]
    },
    {
     "name": "stdout",
     "output_type": "stream",
     "text": [
      "\n"
     ]
    },
    {
     "name": "stderr",
     "output_type": "stream",
     "text": [
      "2023-01-22 16:16:08.696 | INFO     | gdsfactory.simulation.fem.mode_solver:compute_cross_section_modes:160 - Write mode to PosixPath('/home/runner/.gdsfactory/modes/xs_e0aa3c71_efe87381.npz')\n"
     ]
    },
    {
     "name": "stderr",
     "output_type": "stream",
     "text": [
      "/tmp/ipykernel_10157/656326063.py:15: ComplexWarning: Casting complex values to real discards the imaginary part\n",
      "  all_lams[i] = lams\n"
     ]
    },
    {
     "name": "stdout",
     "output_type": "stream",
     "text": [
      "\n"
     ]
    },
    {
     "name": "stderr",
     "output_type": "stream",
     "text": [
      "2023-01-22 16:16:16.342 | INFO     | gdsfactory.simulation.fem.mode_solver:compute_cross_section_modes:160 - Write mode to PosixPath('/home/runner/.gdsfactory/modes/xs_57f480b5_efe87381.npz')\n"
     ]
    },
    {
     "name": "stderr",
     "output_type": "stream",
     "text": [
      "/tmp/ipykernel_10157/656326063.py:15: ComplexWarning: Casting complex values to real discards the imaginary part\n",
      "  all_lams[i] = lams\n"
     ]
    },
    {
     "name": "stdout",
     "output_type": "stream",
     "text": [
      "\n"
     ]
    },
    {
     "name": "stderr",
     "output_type": "stream",
     "text": [
      "2023-01-22 16:16:23.934 | INFO     | gdsfactory.simulation.fem.mode_solver:compute_cross_section_modes:160 - Write mode to PosixPath('/home/runner/.gdsfactory/modes/xs_a6d85b35_efe87381.npz')\n"
     ]
    },
    {
     "name": "stderr",
     "output_type": "stream",
     "text": [
      "/tmp/ipykernel_10157/656326063.py:15: ComplexWarning: Casting complex values to real discards the imaginary part\n",
      "  all_lams[i] = lams\n"
     ]
    }
   ],
   "source": [
    "widths = np.linspace(0.2, 2, 20)\n",
    "num_modes = 4\n",
    "all_lams = np.zeros((widths.shape[0], num_modes))\n",
    "all_te_fracs = np.zeros((widths.shape[0], num_modes))\n",
    "\n",
    "for i, width in enumerate(tqdm(widths)):\n",
    "    lams, basis, xs = compute_cross_section_modes(\n",
    "        cross_section=gf.cross_section.strip(width=width),\n",
    "        layerstack=filtered_layerstack,\n",
    "        wl=1.55,\n",
    "        num_modes=num_modes,\n",
    "        resolutions=resolutions,\n",
    "        wafer_padding=2,\n",
    "    )\n",
    "    all_lams[i] = lams\n",
    "    all_te_fracs[i, :] = [\n",
    "        mode_solver.calculate_te_frac(basis, xs[idx]) for idx in range(num_modes)\n",
    "    ]"
   ]
  },
  {
   "cell_type": "code",
   "execution_count": 8,
   "id": "1d68931e",
   "metadata": {
    "execution": {
     "iopub.execute_input": "2023-01-22T16:16:24.651119Z",
     "iopub.status.busy": "2023-01-22T16:16:24.650344Z",
     "iopub.status.idle": "2023-01-22T16:16:24.836857Z",
     "shell.execute_reply": "2023-01-22T16:16:24.836219Z"
    }
   },
   "outputs": [
    {
     "data": {
      "image/png": "[encoded data removed]",
      "text/plain": [
       "<Figure size 640x480 with 1 Axes>"
      ]
     },
     "metadata": {},
     "output_type": "display_data"
    }
   ],
   "source": [
    "all_lams = np.real(all_lams)\n",
    "plt.xlabel(\"waveguide Width [µm]\")\n",
    "plt.ylabel(\"Effective refractive index\")\n",
    "plt.ylim(1.444, np.max(all_lams) + 0.1 * (np.max(all_lams) - 1.444))\n",
    "\n",
    "for lams, te_fracs in zip(all_lams.T, all_te_fracs.T):\n",
    "    plt.plot(widths, lams)\n",
    "    plt.scatter(widths, lams, c=te_fracs, cmap=\"cool\")"
   ]
  },
  {
   "cell_type": "code",
   "execution_count": null,
   "id": "15fb0b38-ce20-419f-b6e7-839215920191",
   "metadata": {},
   "outputs": [],
   "source": []
  }
 ],
 "metadata": {
  "kernelspec": {
   "display_name": "Python 3 (ipykernel)",
   "language": "python",
   "name": "python3"
  },
  "language_info": {
   "codemirror_mode": {
    "name": "ipython",
    "version": 3
   },
   "file_extension": ".py",
   "mimetype": "text/x-python",
   "name": "python",
   "nbconvert_exporter": "python",
   "pygments_lexer": "ipython3",
   "version": "3.9.15"
  },
  "widgets": {
   "application/vnd.jupyter.widget-state+json": {
    "state": {
     "310698bbff6643a0a8938825db7cbef4": {
      "model_module": "@jupyter-widgets/controls",
      "model_module_version": "2.0.0",
      "model_name": "FloatProgressModel",
      "state": {
       "_dom_classes": [],
       "_model_module": "@jupyter-widgets/controls",
       "_model_module_version": "2.0.0",
       "_model_name": "FloatProgressModel",
       "_view_count": null,
       "_view_module": "@jupyter-widgets/controls",
       "_view_module_version": "2.0.0",
       "_view_name": "ProgressView",
       "bar_style": "success",
       "description": "",
       "description_allow_html": false,
       "layout": "IPY_MODEL_605bb1ca4f8a49fc9cf7e4bc482faf10",
       "max": 20.0,
       "min": 0.0,
       "orientation": "horizontal",
       "style": "IPY_MODEL_476cb83e81764602b3cad8e6eff4579a",
       "tabbable": null,
       "tooltip": null,
       "value": 20.0
      }
     },
     "319f8968a9534befa19d0c16026ed1e3": {
      "model_module": "@jupyter-widgets/controls",
      "model_module_version": "2.0.0",
      "model_name": "HTMLStyleModel",
      "state": {
       "_model_module": "@jupyter-widgets/controls",
       "_model_module_version": "2.0.0",
       "_model_name": "HTMLStyleModel",
       "_view_count": null,
       "_view_module": "@jupyter-widgets/base",
       "_view_module_version": "2.0.0",
       "_view_name": "StyleView",
       "background": null,
       "description_width": "",
       "font_size": null,
       "text_color": null
      }
     },
     "476cb83e81764602b3cad8e6eff4579a": {
      "model_module": "@jupyter-widgets/controls",
      "model_module_version": "2.0.0",
      "model_name": "ProgressStyleModel",
      "state": {
       "_model_module": "@jupyter-widgets/controls",
       "_model_module_version": "2.0.0",
       "_model_name": "ProgressStyleModel",
       "_view_count": null,
       "_view_module": "@jupyter-widgets/base",
       "_view_module_version": "2.0.0",
       "_view_name": "StyleView",
       "bar_color": null,
       "description_width": ""
      }
     },
     "4be9a5a95c8e45d6aa48cab92b846ecc": {
      "model_module": "@jupyter-widgets/controls",
      "model_module_version": "2.0.0",
      "model_name": "HBoxModel",
      "state": {
       "_dom_classes": [],
       "_model_module": "@jupyter-widgets/controls",
       "_model_module_version": "2.0.0",
       "_model_name": "HBoxModel",
       "_view_count": null,
       "_view_module": "@jupyter-widgets/controls",
       "_view_module_version": "2.0.0",
       "_view_name": "HBoxView",
       "box_style": "",
       "children": [
        "IPY_MODEL_b0c819dd24a942c38cb09701185eccd3",
        "IPY_MODEL_310698bbff6643a0a8938825db7cbef4",
        "IPY_MODEL_64c8594d93764e3ab4384a3282f7887a"
       ],
       "layout": "IPY_MODEL_a6dbb3283fae40cf862e00d9ae788b77",
       "tabbable": null,
       "tooltip": null
      }
     },
     "527c365ee984447d87b1f6817a89e93e": {
      "model_module": "@jupyter-widgets/base",
      "model_module_version": "2.0.0",
      "model_name": "LayoutModel",
      "state": {
       "_model_module": "@jupyter-widgets/base",
       "_model_module_version": "2.0.0",
       "_model_name": "LayoutModel",
       "_view_count": null,
       "_view_module": "@jupyter-widgets/base",
       "_view_module_version": "2.0.0",
       "_view_name": "LayoutView",
       "align_content": null,
       "align_items": null,
       "align_self": null,
       "border_bottom": null,
       "border_left": null,
       "border_right": null,
       "border_top": null,
       "bottom": null,
       "display": null,
       "flex": null,
       "flex_flow": null,
       "grid_area": null,
       "grid_auto_columns": null,
       "grid_auto_flow": null,
       "grid_auto_rows": null,
       "grid_column": null,
       "grid_gap": null,
       "grid_row": null,
       "grid_template_areas": null,
       "grid_template_columns": null,
       "grid_template_rows": null,
       "height": null,
       "justify_content": null,
       "justify_items": null,
       "left": null,
       "margin": null,
       "max_height": null,
       "max_width": null,
       "min_height": null,
       "min_width": null,
       "object_fit": null,
       "object_position": null,
       "order": null,
       "overflow": null,
       "padding": null,
       "right": null,
       "top": null,
       "visibility": null,
       "width": null
      }
     },
     "605bb1ca4f8a49fc9cf7e4bc482faf10": {
      "model_module": "@jupyter-widgets/base",
      "model_module_version": "2.0.0",
      "model_name": "LayoutModel",
      "state": {
       "_model_module": "@jupyter-widgets/base",
       "_model_module_version": "2.0.0",
       "_model_name": "LayoutModel",
       "_view_count": null,
       "_view_module": "@jupyter-widgets/base",
       "_view_module_version": "2.0.0",
       "_view_name": "LayoutView",
       "align_content": null,
       "align_items": null,
       "align_self": null,
       "border_bottom": null,
       "border_left": null,
       "border_right": null,
       "border_top": null,
       "bottom": null,
       "display": null,
       "flex": null,
       "flex_flow": null,
       "grid_area": null,
       "grid_auto_columns": null,
       "grid_auto_flow": null,
       "grid_auto_rows": null,
       "grid_column": null,
       "grid_gap": null,
       "grid_row": null,
       "grid_template_areas": null,
       "grid_template_columns": null,
       "grid_template_rows": null,
       "height": null,
       "justify_content": null,
       "justify_items": null,
       "left": null,
       "margin": null,
       "max_height": null,
       "max_width": null,
       "min_height": null,
       "min_width": null,
       "object_fit": null,
       "object_position": null,
       "order": null,
       "overflow": null,
       "padding": null,
       "right": null,
       "top": null,
       "visibility": null,
       "width": null
      }
     },
     "64c8594d93764e3ab4384a3282f7887a": {
      "model_module": "@jupyter-widgets/controls",
      "model_module_version": "2.0.0",
      "model_name": "HTMLModel",
      "state": {
       "_dom_classes": [],
       "_model_module": "@jupyter-widgets/controls",
       "_model_module_version": "2.0.0",
       "_model_name": "HTMLModel",
       "_view_count": null,
       "_view_module": "@jupyter-widgets/controls",
       "_view_module_version": "2.0.0",
       "_view_name": "HTMLView",
       "description": "",
       "description_allow_html": false,
       "layout": "IPY_MODEL_527c365ee984447d87b1f6817a89e93e",
       "placeholder": "​",
       "style": "IPY_MODEL_9b3fb1ec7ec74c349b31b33406d50cf1",
       "tabbable": null,
       "tooltip": null,
       "value": " 20/20 [02:06&lt;00:00,  7.08s/it]"
      }
     },
     "927bf92b11d44debab9e7ccc95fa9f56": {
      "model_module": "@jupyter-widgets/base",
      "model_module_version": "2.0.0",
      "model_name": "LayoutModel",
      "state": {
       "_model_module": "@jupyter-widgets/base",
       "_model_module_version": "2.0.0",
       "_model_name": "LayoutModel",
       "_view_count": null,
       "_view_module": "@jupyter-widgets/base",
       "_view_module_version": "2.0.0",
       "_view_name": "LayoutView",
       "align_content": null,
       "align_items": null,
       "align_self": null,
       "border_bottom": null,
       "border_left": null,
       "border_right": null,
       "border_top": null,
       "bottom": null,
       "display": null,
       "flex": null,
       "flex_flow": null,
       "grid_area": null,
       "grid_auto_columns": null,
       "grid_auto_flow": null,
       "grid_auto_rows": null,
       "grid_column": null,
       "grid_gap": null,
       "grid_row": null,
       "grid_template_areas": null,
       "grid_template_columns": null,
       "grid_template_rows": null,
       "height": null,
       "justify_content": null,
       "justify_items": null,
       "left": null,
       "margin": null,
       "max_height": null,
       "max_width": null,
       "min_height": null,
       "min_width": null,
       "object_fit": null,
       "object_position": null,
       "order": null,
       "overflow": null,
       "padding": null,
       "right": null,
       "top": null,
       "visibility": null,
       "width": null
      }
     },
     "9b3fb1ec7ec74c349b31b33406d50cf1": {
      "model_module": "@jupyter-widgets/controls",
      "model_module_version": "2.0.0",
      "model_name": "HTMLStyleModel",
      "state": {
       "_model_module": "@jupyter-widgets/controls",
       "_model_module_version": "2.0.0",
       "_model_name": "HTMLStyleModel",
       "_view_count": null,
       "_view_module": "@jupyter-widgets/base",
       "_view_module_version": "2.0.0",
       "_view_name": "StyleView",
       "background": null,
       "description_width": "",
       "font_size": null,
       "text_color": null
      }
     },
     "a6dbb3283fae40cf862e00d9ae788b77": {
      "model_module": "@jupyter-widgets/base",
      "model_module_version": "2.0.0",
      "model_name": "LayoutModel",
      "state": {
       "_model_module": "@jupyter-widgets/base",
       "_model_module_version": "2.0.0",
       "_model_name": "LayoutModel",
       "_view_count": null,
       "_view_module": "@jupyter-widgets/base",
       "_view_module_version": "2.0.0",
       "_view_name": "LayoutView",
       "align_content": null,
       "align_items": null,
       "align_self": null,
       "border_bottom": null,
       "border_left": null,
       "border_right": null,
       "border_top": null,
       "bottom": null,
       "display": null,
       "flex": null,
       "flex_flow": null,
       "grid_area": null,
       "grid_auto_columns": null,
       "grid_auto_flow": null,
       "grid_auto_rows": null,
       "grid_column": null,
       "grid_gap": null,
       "grid_row": null,
       "grid_template_areas": null,
       "grid_template_columns": null,
       "grid_template_rows": null,
       "height": null,
       "justify_content": null,
       "justify_items": null,
       "left": null,
       "margin": null,
       "max_height": null,
       "max_width": null,
       "min_height": null,
       "min_width": null,
       "object_fit": null,
       "object_position": null,
       "order": null,
       "overflow": null,
       "padding": null,
       "right": null,
       "top": null,
       "visibility": null,
       "width": null
      }
     },
     "b0c819dd24a942c38cb09701185eccd3": {
      "model_module": "@jupyter-widgets/controls",
      "model_module_version": "2.0.0",
      "model_name": "HTMLModel",
      "state": {
       "_dom_classes": [],
       "_model_module": "@jupyter-widgets/controls",
       "_model_module_version": "2.0.0",
       "_model_name": "HTMLModel",
       "_view_count": null,
       "_view_module": "@jupyter-widgets/controls",
       "_view_module_version": "2.0.0",
       "_view_name": "HTMLView",
       "description": "",
       "description_allow_html": false,
       "layout": "IPY_MODEL_927bf92b11d44debab9e7ccc95fa9f56",
       "placeholder": "​",
       "style": "IPY_MODEL_319f8968a9534befa19d0c16026ed1e3",
       "tabbable": null,
       "tooltip": null,
       "value": "100%"
      }
     }
    },
    "version_major": 2,
    "version_minor": 0
   }
  }
 },
 "nbformat": 4,
 "nbformat_minor": 5
}
